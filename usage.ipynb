{
 "cells": [
  {
   "cell_type": "code",
   "execution_count": null,
   "metadata": {},
   "outputs": [],
   "source": [
    "import pyroc\n",
    "import numpy as np\n",
    "import pandas as pd\n",
    "\n",
    "import matplotlib.pyplot as plt\n",
    "%matplotlib inline"
   ]
  },
  {
   "cell_type": "markdown",
   "metadata": {},
   "source": [
    "## Data\n",
    "\n",
    "The below loads in a dataset comparing the performance of a risk score (Krebs-Goplerud) against common biomarkers for Ovarian cancer. This is the dataset originally used in the article by Delong, Delong, and Clarke-Pearson which described the statistical test implemented in pytest."
   ]
  },
  {
   "cell_type": "code",
   "execution_count": null,
   "metadata": {},
   "outputs": [],
   "source": [
    "# Load CSV\n",
    "data = pd.read_csv(\"tests/data/ovarian_cancer.csv\", index_col=\"idx\")\n",
    "\n",
    "# Imputation (Median)\n",
    "outcome = data.pop(\"outcome\")\n",
    "\n",
    "data.albumin = data.albumin.fillna(np.median(data.albumin.dropna()))\n",
    "data.total_protein = data.total_protein.fillna(np.median(data.total_protein.dropna()))\n",
    "\n",
    "data.rename(columns={\n",
    "    'albumin': 'Albumin',\n",
    "    'total_protein': 'Total Protein',\n",
    "    'total_score': 'Krebs-Goplerud'\n",
    "}, inplace=True)\n",
    "\n",
    "print(f'Dataset size: {data.shape}')\n",
    "# Show examples\n",
    "data.head(5)"
   ]
  },
  {
   "cell_type": "markdown",
   "metadata": {},
   "source": [
    "## Instantiate ROC object\n",
    "\n",
    "The ROC object is used to calculate the area under the operator characteristic curve (AUROC).\n",
    "The first argument should be the binary target (0s and 1s). The second argument should be a dataframe with the predictions to compare."
   ]
  },
  {
   "cell_type": "code",
   "execution_count": null,
   "metadata": {},
   "outputs": [],
   "source": [
    "roc = pyroc.ROC(outcome, data)"
   ]
  },
  {
   "cell_type": "markdown",
   "metadata": {},
   "source": [
    "Predictions are stored in a dictionary attribute named `preds`:"
   ]
  },
  {
   "cell_type": "code",
   "execution_count": null,
   "metadata": {},
   "outputs": [],
   "source": [
    "print(roc.preds.keys())\n",
    "roc.preds['Krebs-Goplerud']"
   ]
  },
  {
   "cell_type": "markdown",
   "metadata": {},
   "source": [
    "## Value of the ROC\n",
    "\n",
    "Upon initialization, the ROC object has calculated the AUROC for each prediction."
   ]
  },
  {
   "cell_type": "code",
   "execution_count": null,
   "metadata": {},
   "outputs": [],
   "source": [
    "print(roc.auc)"
   ]
  },
  {
   "cell_type": "markdown",
   "metadata": {},
   "source": [
    "As the predictions are stored in an OrderedDict, we can easily associate the AUC with each prediction."
   ]
  },
  {
   "cell_type": "code",
   "execution_count": null,
   "metadata": {},
   "outputs": [],
   "source": [
    "auc = {pred_name: roc.auc[0, i] for i, pred_name in enumerate(roc.preds.keys())}\n",
    "print(auc)"
   ]
  },
  {
   "cell_type": "markdown",
   "metadata": {},
   "source": [
    "We may also acquire confidence intervals."
   ]
  },
  {
   "cell_type": "code",
   "execution_count": null,
   "metadata": {},
   "outputs": [],
   "source": [
    "print(roc.preds.keys())\n",
    "print(roc.ci()[0], 'lower')\n",
    "print(roc.ci()[1], 'upper')"
   ]
  },
  {
   "cell_type": "markdown",
   "metadata": {},
   "source": [
    "## Plot ROC curves\n",
    "\n",
    "The ROC object provides a convenient method for plotting ROC curves:"
   ]
  },
  {
   "cell_type": "code",
   "execution_count": null,
   "metadata": {},
   "outputs": [],
   "source": [
    "fig, ax = roc.plot()\n",
    "plt.show()"
   ]
  },
  {
   "cell_type": "markdown",
   "metadata": {},
   "source": [
    "## Statistically comparing different predictions\n",
    "\n",
    "pyroc provides a method for comparing whether a given prediction has a statistically significantly different AUROC than another. The approach is described in an article by DeLong, DeLong, and Clarke-Pearson ([available here](https://doi.org/10.2307/2531595)). In the article, a general approach is described which allows comparing either two predictions directly, e.g. \"is prediction A better than prediction B?\", or comparing groups of predictions, e.g. \"is prediction A significantly different than predictions B or C?\". This is accomplished through a *contrast matrix*. We will demonstrate usage of the compare method through three common questions asked. As a reminder, we have three predictors in our example dataset: Albumin, Total Protein, and Krebs-Goplerud. We may thus ask:\n",
    "\n",
    "* Is Krebs-Goplerud better than Total Protein?\n",
    "* Is Krebs-Goplerud better than Albumin?\n",
    "* Is Krebs-Goplerud better than at least one of Albumin or Total Protein?\n",
    "\n",
    "Recall our predictions are:"
   ]
  },
  {
   "cell_type": "code",
   "execution_count": null,
   "metadata": {},
   "outputs": [],
   "source": [
    "print(roc.preds.keys())"
   ]
  },
  {
   "cell_type": "markdown",
   "metadata": {},
   "source": [
    "### Is Krebs-Goplerud different than Total Protein?\n",
    "\n",
    "The first question focuses on direct comparison of two predictions. We use a single-row contrast: [0, -1, 1].\n"
   ]
  },
  {
   "cell_type": "code",
   "execution_count": null,
   "metadata": {},
   "outputs": [],
   "source": [
    "p, ci = roc.compare(np.array([\n",
    "    [0, -1,  1],\n",
    "]))\n",
    "print(p, ci)"
   ]
  },
  {
   "cell_type": "markdown",
   "metadata": {},
   "source": [
    "Our p-value is 0.72, which does not reject the null hypothesis. The AUROC Krebs-Goplerud score is not significantly different from the AUROC of the Total Protein biomarker."
   ]
  },
  {
   "cell_type": "markdown",
   "metadata": {},
   "source": [
    "### Is Krebs-Goplerud different than Albumin?\n",
    "\n",
    "Similar to above, we are only comparing two of the three predictors. However, we are changing which predictor we are comparing again.\n",
    "\n",
    "We use a single-row contrast: [-1, 0, 1]."
   ]
  },
  {
   "cell_type": "code",
   "execution_count": null,
   "metadata": {},
   "outputs": [],
   "source": [
    "p, ci = roc.compare(np.array([\n",
    "    [-1, 0,  1],\n",
    "]))\n",
    "print(p, ci)"
   ]
  },
  {
   "cell_type": "markdown",
   "metadata": {},
   "source": [
    "Again, no significant difference."
   ]
  },
  {
   "cell_type": "markdown",
   "metadata": {},
   "source": [
    "### Is Krebs-Goplerud better than at least one of Albumin and Total Protein?\n",
    "\n",
    "This comparison is identical to the comparison made in page 844 of the original article by DeLong, DeLong, and Clarke-Pearson."
   ]
  },
  {
   "cell_type": "code",
   "execution_count": null,
   "metadata": {},
   "outputs": [],
   "source": [
    "p, ci = roc.compare(np.array([\n",
    "    [1, -1,  0],\n",
    "    [1,  0, -1]\n",
    "]))\n",
    "print(p, ci)"
   ]
  }
 ],
 "metadata": {
  "interpreter": {
   "hash": "11dfb2c79490f582a5e990c235ff3d9a7a2a7ca6aec5e766cda6e455e6b70b96"
  },
  "kernelspec": {
   "display_name": "Python 3.8.13 ('pyroc')",
   "language": "python",
   "name": "python3"
  },
  "language_info": {
   "codemirror_mode": {
    "name": "ipython",
    "version": 3
   },
   "file_extension": ".py",
   "mimetype": "text/x-python",
   "name": "python",
   "nbconvert_exporter": "python",
   "pygments_lexer": "ipython3",
   "version": "3.8.13"
  }
 },
 "nbformat": 4,
 "nbformat_minor": 4
}
